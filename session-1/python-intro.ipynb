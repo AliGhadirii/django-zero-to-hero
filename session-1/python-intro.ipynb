{
 "cells": [
  {
   "cell_type": "markdown",
   "source": [
    "## What is Python?\n",
    "Python is an interpreted (bytecode-compiled), high-level, general-purpose programming language.  \n",
    "There are no type declarations of variables, parameters, functions, or methods in source code.  \n",
    "Python is a popular, open-source programming language used for both scripting applications and standalone programs"
   ],
   "metadata": {
    "collapsed": false
   }
  },
  {
   "cell_type": "markdown",
   "source": [
    "## How Python works?\n",
    "Python is an imperative language based on statements.\n",
    "Imperative programming is a programming paradigm that uses statements that change a program's state.\n",
    "### Statements\n",
    "+ a single expression  \n",
    "+ an assignment  \n",
    "+ a function call  \n",
    "+ a function definition  \n",
    "+ a statement; statement\n",
    "### Expressions\n",
    "+ Numbers\n",
    "    + integers\n",
    "    + floating-point\n",
    "    + complex numbers\n",
    "+ strings\n",
    "+ boolean values\n",
    "+ lists and dicts"
   ],
   "metadata": {
    "collapsed": false,
    "pycharm": {
     "name": "#%% md\n"
    }
   }
  },
  {
   "cell_type": "markdown",
   "source": [
    "### Make your code cleaner\n",
    "we add space to codes to make the code if cleaner:\n",
    "    pass ```2*3``` works exactly like ```2 * 3``` but we use space to make it more readable."
   ],
   "metadata": {
    "collapsed": false,
    "pycharm": {
     "name": "#%% md\n",
     "is_executing": false
    }
   }
  },
  {
   "cell_type": "code",
   "source": [
    "2 * 3"
   ],
   "metadata": {
    "collapsed": false,
    "pycharm": {
     "name": "#%% \n",
     "is_executing": false
    }
   },
   "execution_count": 3,
   "outputs": [
    {
     "data": {
      "text/plain": "6"
     },
     "metadata": {},
     "output_type": "execute_result",
     "execution_count": 3
    }
   ]
  },
  {
   "cell_type": "code",
   "execution_count": 4,
   "outputs": [
    {
     "data": {
      "text/plain": "0.6666666666666666"
     },
     "metadata": {},
     "output_type": "execute_result",
     "execution_count": 4
    }
   ],
   "source": [
    "2 + 3\n",
    "#\n",
    "2 - 3\n",
    "2 / 3"
   ],
   "metadata": {
    "collapsed": false,
    "pycharm": {
     "name": "#%% \n",
     "is_executing": false
    }
   }
  },
  {
   "cell_type": "code",
   "execution_count": null,
   "outputs": [],
   "source": [
    "\n"
   ],
   "metadata": {
    "collapsed": false,
    "pycharm": {
     "name": "#%%\n"
    }
   }
  }
 ],
 "metadata": {
  "language_info": {
   "codemirror_mode": {
    "name": "ipython",
    "version": 2
   },
   "file_extension": ".py",
   "mimetype": "text/x-python",
   "name": "python",
   "nbconvert_exporter": "python",
   "pygments_lexer": "ipython2",
   "version": "2.7.6"
  },
  "kernelspec": {
   "name": "python3",
   "language": "python",
   "display_name": "Python 3"
  },
  "pycharm": {
   "stem_cell": {
    "cell_type": "raw",
    "source": [],
    "metadata": {
     "collapsed": false
    }
   }
  }
 },
 "nbformat": 4,
 "nbformat_minor": 0
}