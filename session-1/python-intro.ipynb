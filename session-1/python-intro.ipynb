{
 "cells": [
  {
   "cell_type": "markdown",
   "source": [
    "# What is Python?\n",
    "Python is an interpreted (bytecode-compiled), high-level, general-purpose programming language.  \n",
    "There are no type declarations of variables, parameters, functions, or methods in source code.  \n",
    "Python is a popular, open-source programming language used for both scripting applications and standalone programs"
   ],
   "metadata": {
    "collapsed": false
   }
  },
  {
   "cell_type": "markdown",
   "source": [
    "# How Python works?\n",
    "Python is an imperative language based on statements.\n",
    "Imperative programming is a programming paradigm that uses statements that change a program's state.\n",
    "## Statements\n",
    "+ a single expression  \n",
    "+ an assignment  \n",
    "+ a function call  \n",
    "+ a function definition  \n",
    "+ a statement; statement\n",
    "\n",
    "## Expressions\n",
    "+ Numbers\n",
    "    + integers\n",
    "    + floating-point\n",
    "    + complex numbers\n",
    "+ strings\n",
    "+ boolean values\n",
    "+ lists and dicts\n"
   ],
   "metadata": {
    "collapsed": false,
    "pycharm": {
     "name": "#%% md\n"
    }
   }
  },
  {
   "cell_type": "markdown",
   "source": [
    "### Make your code cleaner\n",
    "we add space to codes to make the code if cleaner:\n",
    "    pass ```2*3``` works exactly like ```2 * 3``` but we use space to make it more readable."
   ],
   "metadata": {
    "collapsed": false,
    "pycharm": {
     "name": "#%% md\n",
     "is_executing": false
    }
   }
  },
  {
   "cell_type": "code",
   "source": [
    "2 * 3"
   ],
   "metadata": {
    "collapsed": false,
    "pycharm": {
     "name": "#%% \n",
     "is_executing": false
    }
   },
   "execution_count": 15,
   "outputs": [
    {
     "data": {
      "text/plain": "6"
     },
     "metadata": {},
     "output_type": "execute_result",
     "execution_count": 15
    }
   ]
  },
  {
   "cell_type": "markdown",
   "source": [
    "### ```a``` and ```b``` are variables."
   ],
   "metadata": {
    "collapsed": false,
    "pycharm": {
     "name": "#%% md\n"
    }
   }
  },
  {
   "cell_type": "code",
   "execution_count": 16,
   "outputs": [
    {
     "data": {
      "text/plain": "6"
     },
     "metadata": {},
     "output_type": "execute_result",
     "execution_count": 16
    }
   ],
   "source": [
    "a = 2\n",
    "b = 3\n",
    "a * b"
   ],
   "metadata": {
    "collapsed": false,
    "pycharm": {
     "name": "#%%\n",
     "is_executing": false
    }
   }
  },
  {
   "cell_type": "markdown",
   "source": [
    "### we can use ```print``` function to write something on the screen."
   ],
   "metadata": {
    "collapsed": false,
    "pycharm": {
     "name": "#%% md\n"
    }
   }
  },
  {
   "cell_type": "code",
   "execution_count": 17,
   "outputs": [
    {
     "name": "stdout",
     "text": [
      "2\nthe value of b is 3\n5\n0.6666666666666666\n8\n"
     ],
     "output_type": "stream"
    }
   ],
   "source": [
    "print(a)\n",
    "print('the value of b is', b)\n",
    "print(a + b)\n",
    "print(a / b)\n",
    "print(a ** b)"
   ],
   "metadata": {
    "collapsed": false,
    "pycharm": {
     "name": "#%% \n",
     "is_executing": false
    }
   }
  },
  {
   "cell_type": "markdown",
   "source": [
    "### We don't need to declare variable types explicitly."
   ],
   "metadata": {
    "collapsed": false,
    "pycharm": {
     "name": "#%% md\n"
    }
   }
  },
  {
   "cell_type": "code",
   "execution_count": 18,
   "outputs": [
    {
     "name": "stdout",
     "text": [
      "5\nhey\n"
     ],
     "output_type": "stream"
    }
   ],
   "source": [
    "d = True\n",
    "print(d)\n",
    "c = 5\n",
    "print(c)\n",
    "c = \"hey\"\n",
    "print(c)\n",
    "c = a / b"
   ],
   "metadata": {
    "collapsed": false,
    "pycharm": {
     "name": "#%%\n",
     "is_executing": false
    }
   }
  },
  {
   "cell_type": "markdown",
   "source": [
    "A better and more readable way to print both text and the value of variable to the screen is to use what are called f-strings.  \n",
    "f-strings allow you to insert the value of a variable anywhere in the text by surrounding it with braces {}.  \n",
    "Note that the entire text string needs to be between quotes and be preceded by the letter f"
   ],
   "metadata": {
    "collapsed": false,
    "pycharm": {
     "name": "#%% md\n"
    }
   }
  },
  {
   "cell_type": "code",
   "execution_count": 20,
   "outputs": [
    {
     "name": "stdout",
     "text": [
      "2 divided by 3 is 0.6666666666666666\n2 divided by 3 gives 0.667\n"
     ],
     "output_type": "stream"
    }
   ],
   "source": [
    "print(f'{a} divided by {b} is {c}')\n",
    "print(f'{a} divided by {b} gives {c:.3f}')"
   ],
   "metadata": {
    "collapsed": false,
    "pycharm": {
     "name": "#%%\n",
     "is_executing": false
    }
   }
  },
  {
   "cell_type": "markdown",
   "source": [
    "# Data Structures\n",
    "+ dictionaries (hash tables): {}\n",
    "+ lists: []\n",
    "+ tuples: (item, ...)"
   ],
   "metadata": {
    "collapsed": false,
    "pycharm": {
     "name": "#%% md\n"
    }
   }
  },
  {
   "cell_type": "code",
   "execution_count": 22,
   "outputs": [
    {
     "data": {
      "text/plain": "[1, 2, 3]"
     },
     "metadata": {},
     "output_type": "execute_result",
     "execution_count": 22
    }
   ],
   "source": [
    "[1, 2, 3]"
   ],
   "metadata": {
    "collapsed": false,
    "pycharm": {
     "name": "#%% \n",
     "is_executing": false
    }
   }
  },
  {
   "cell_type": "code",
   "execution_count": 21,
   "outputs": [
    {
     "data": {
      "text/plain": "{1, 2, 3}"
     },
     "metadata": {},
     "output_type": "execute_result",
     "execution_count": 21
    }
   ],
   "source": [
    "{1, 2, 3}"
   ],
   "metadata": {
    "collapsed": false,
    "pycharm": {
     "name": "#%%\n",
     "is_executing": false
    }
   }
  },
  {
   "cell_type": "code",
   "execution_count": 23,
   "outputs": [
    {
     "data": {
      "text/plain": "(1, 2, 3)"
     },
     "metadata": {},
     "output_type": "execute_result",
     "execution_count": 23
    }
   ],
   "source": [
    "(1, 2, 3)"
   ],
   "metadata": {
    "collapsed": false,
    "pycharm": {
     "name": "#%%\n",
     "is_executing": false
    }
   }
  },
  {
   "cell_type": "code",
   "execution_count": 27,
   "outputs": [],
   "source": [
    "a = {\"m\": \"male\", \"f\": \"female\", \"o\": \"other\"}"
   ],
   "metadata": {
    "collapsed": false,
    "pycharm": {
     "name": "#%% \n",
     "is_executing": false
    }
   }
  },
  {
   "cell_type": "code",
   "execution_count": 30,
   "outputs": [
    {
     "name": "stdout",
     "text": [
      "m\n"
     ],
     "output_type": "stream"
    }
   ],
   "source": [
    "print(a[\"male\"])"
   ],
   "metadata": {
    "collapsed": false,
    "pycharm": {
     "name": "#%%\n",
     "is_executing": false
    }
   }
  },
  {
   "cell_type": "markdown",
   "source": [
    "## Lists\n",
    "List is one of the Python compound data types often referred to as sequences."
   ],
   "metadata": {
    "collapsed": false,
    "pycharm": {
     "name": "#%% md\n"
    }
   }
  },
  {
   "cell_type": "code",
   "execution_count": 51,
   "outputs": [
    {
     "name": "stdout",
     "text": [
      "[]\n[1, 'Hello', 1.6, True, ['nested list', 8]]\n"
     ],
     "output_type": "stream"
    }
   ],
   "source": [
    "my_list = []\n",
    "print(my_list)\n",
    "my_list = [1, \"Hello\", 1.6, True, [\"nested list\", 8]]\n",
    "print(my_list)"
   ],
   "metadata": {
    "collapsed": false,
    "pycharm": {
     "name": "#%% \n",
     "is_executing": false
    }
   }
  },
  {
   "cell_type": "markdown",
   "source": [
    "### Accessing List\n",
    "<img src=\"https://cdn.programiz.com/sites/tutorial2program/files/element-slicling.jpg\">"
   ],
   "metadata": {
    "collapsed": false,
    "pycharm": {
     "name": "#%% md\n"
    }
   }
  },
  {
   "cell_type": "code",
   "execution_count": 52,
   "outputs": [
    {
     "name": "stdout",
     "text": [
      "1\n['nested list', 8]\nnested list\nTrue\n"
     ],
     "output_type": "stream"
    }
   ],
   "source": [
    "print(my_list[0]) \n",
    "print(my_list[4])\n",
    "print(my_list[4][0])\n",
    "print(my_list[-2])"
   ],
   "metadata": {
    "collapsed": false,
    "pycharm": {
     "name": "#%%\n",
     "is_executing": false
    }
   }
  },
  {
   "cell_type": "markdown",
   "source": [
    "### Slicing"
   ],
   "metadata": {
    "collapsed": false,
    "pycharm": {
     "name": "#%% md\n"
    }
   }
  },
  {
   "cell_type": "code",
   "execution_count": 53,
   "outputs": [
    {
     "name": "stdout",
     "text": [
      "['Hello', 1.6]\n[True, ['nested list', 8]]\n[1, 'Hello', 1.6]\n"
     ],
     "output_type": "stream"
    }
   ],
   "source": [
    "print(my_list[1:3])\n",
    "print(my_list[3:])\n",
    "print(my_list[:-2])"
   ],
   "metadata": {
    "collapsed": false,
    "pycharm": {
     "name": "#%%\n",
     "is_executing": false
    }
   }
  },
  {
   "cell_type": "markdown",
   "source": [
    "### Modification"
   ],
   "metadata": {
    "collapsed": false,
    "pycharm": {
     "name": "#%% md\n"
    }
   }
  },
  {
   "cell_type": "code",
   "execution_count": 55,
   "outputs": [
    {
     "name": "stdout",
     "text": [
      "[5, 'Hello', 1.6, True, ['nested list', 8]]\n"
     ],
     "output_type": "stream"
    }
   ],
   "source": [
    "my_list[0] = 5\n",
    "print(my_list)"
   ],
   "metadata": {
    "collapsed": false,
    "pycharm": {
     "name": "#%%\n",
     "is_executing": false
    }
   }
  },
  {
   "cell_type": "code",
   "execution_count": 56,
   "outputs": [
    {
     "name": "stdout",
     "text": [
      "[5, 6, 'x', 8, True, ['nested list', 8]]\n"
     ],
     "output_type": "stream"
    }
   ],
   "source": [
    "my_list[1:3] = [6, \"x\", 8]\n",
    "print(my_list)"
   ],
   "metadata": {
    "collapsed": false,
    "pycharm": {
     "name": "#%%\n",
     "is_executing": false
    }
   }
  },
  {
   "cell_type": "code",
   "execution_count": 82,
   "outputs": [
    {
     "name": "stdout",
     "text": [
      "[1, 2, 3, 3, 5, 6, 'x', 8, True, ['nested list', 8]]\n[5, 6, 'x', 8, True, ['nested list', 8], 1, 2, 3, 3]\n"
     ],
     "output_type": "stream"
    }
   ],
   "source": [
    "new_list = [1, 2, 3, 3]\n",
    "print(new_list + my_list)\n",
    "print(my_list + new_list)"
   ],
   "metadata": {
    "collapsed": false,
    "pycharm": {
     "name": "#%%\n",
     "is_executing": false
    }
   }
  },
  {
   "cell_type": "markdown",
   "source": [
    "### Appending and Inserting"
   ],
   "metadata": {
    "collapsed": false,
    "pycharm": {
     "name": "#%% md\n"
    }
   }
  },
  {
   "cell_type": "code",
   "execution_count": 83,
   "outputs": [
    {
     "name": "stdout",
     "text": [
      "[1, 2, 3, 3, 4]",
      "\n"
     ],
     "output_type": "stream"
    }
   ],
   "source": [
    "new_list.append(4)\n",
    "print(new_list)"
   ],
   "metadata": {
    "collapsed": false,
    "pycharm": {
     "name": "#%%\n",
     "is_executing": false
    }
   }
  },
  {
   "cell_type": "code",
   "execution_count": 84,
   "outputs": [
    {
     "name": "stdout",
     "text": [
      "[1, 6, 2, 3, 3, 4]\n"
     ],
     "output_type": "stream"
    }
   ],
   "source": [
    "new_list.insert(1, 6)\n",
    "print(new_list)"
   ],
   "metadata": {
    "collapsed": false,
    "pycharm": {
     "name": "#%%\n",
     "is_executing": false
    }
   }
  },
  {
   "cell_type": "markdown",
   "source": [
    "### Deleting"
   ],
   "metadata": {
    "collapsed": false,
    "pycharm": {
     "name": "#%% md\n"
    }
   }
  },
  {
   "cell_type": "code",
   "execution_count": 85,
   "outputs": [
    {
     "name": "stdout",
     "text": [
      "[1, 6, 2, 3, 3]\n"
     ],
     "output_type": "stream"
    }
   ],
   "source": [
    "new_list.pop()\n",
    "print(new_list)"
   ],
   "metadata": {
    "collapsed": false,
    "pycharm": {
     "name": "#%%\n",
     "is_executing": false
    }
   }
  },
  {
   "cell_type": "code",
   "execution_count": 86,
   "outputs": [
    {
     "name": "stdout",
     "text": [
      "[6, 2, 3, 3]\n"
     ],
     "output_type": "stream"
    }
   ],
   "source": [
    "new_list.pop(0)\n",
    "print(new_list)"
   ],
   "metadata": {
    "collapsed": false,
    "pycharm": {
     "name": "#%%\n",
     "is_executing": false
    }
   }
  },
  {
   "cell_type": "code",
   "execution_count": 87,
   "outputs": [
    {
     "name": "stdout",
     "text": [
      "[6, 2, 3]\n"
     ],
     "output_type": "stream"
    }
   ],
   "source": [
    "new_list.remove(3)\n",
    "print(new_list)"
   ],
   "metadata": {
    "collapsed": false,
    "pycharm": {
     "name": "#%%\n",
     "is_executing": false
    }
   }
  },
  {
   "cell_type": "markdown",
   "source": [
    "### indexing"
   ],
   "metadata": {
    "collapsed": false,
    "pycharm": {
     "name": "#%% md\n"
    }
   }
  },
  {
   "cell_type": "code",
   "execution_count": 90,
   "outputs": [
    {
     "name": "stdout",
     "text": [
      "2\n[6, 2, 3, 3, 3]\n2\n"
     ],
     "output_type": "stream"
    }
   ],
   "source": [
    "print(new_list.index(3))\n",
    "new_list.append(3)\n",
    "print(new_list)\n",
    "print(new_list.index(3))"
   ],
   "metadata": {
    "collapsed": false,
    "pycharm": {
     "name": "#%% \n",
     "is_executing": false
    }
   }
  },
  {
   "cell_type": "markdown",
   "source": [
    "### Some Other functions"
   ],
   "metadata": {
    "collapsed": false,
    "pycharm": {
     "name": "#%% md\n"
    }
   }
  },
  {
   "cell_type": "code",
   "execution_count": 93,
   "outputs": [
    {
     "name": "stdout",
     "text": [
      "[3, 3, 3, 2, 6]\n"
     ],
     "output_type": "stream"
    }
   ],
   "source": [
    "new_list.reverse()\n",
    "print(new_list)"
   ],
   "metadata": {
    "collapsed": false,
    "pycharm": {
     "name": "#%%\n",
     "is_executing": false
    }
   }
  },
  {
   "cell_type": "code",
   "execution_count": 95,
   "outputs": [
    {
     "name": "stdout",
     "text": [
      "[2, 3, 3, 3, 6]\n"
     ],
     "output_type": "stream"
    }
   ],
   "source": [
    "new_list.sort()\n",
    "print(new_list)"
   ],
   "metadata": {
    "collapsed": false,
    "pycharm": {
     "name": "#%%\n",
     "is_executing": false
    }
   }
  },
  {
   "cell_type": "code",
   "execution_count": null,
   "outputs": [],
   "source": [
    "print(len(new_list))"
   ],
   "metadata": {
    "collapsed": false,
    "pycharm": {
     "name": "#%%\n"
    }
   }
  },
  {
   "cell_type": "markdown",
   "source": [
    "## List Comprehensions"
   ],
   "metadata": {
    "collapsed": false,
    "pycharm": {
     "name": "#%% md\n"
    }
   }
  },
  {
   "cell_type": "code",
   "execution_count": 96,
   "outputs": [
    {
     "name": "stdout",
     "text": [
      "[64, 128, 256, 512]\n"
     ],
     "output_type": "stream"
    }
   ],
   "source": [
    "pow2 = [2 ** x for x in range(10) if x > 5]\n",
    "print(pow2)"
   ],
   "metadata": {
    "collapsed": false,
    "pycharm": {
     "name": "#%%\n",
     "is_executing": false
    }
   }
  },
  {
   "cell_type": "markdown",
   "source": [
    "## Tuples\n",
    "We saw that lists and strings have many common properties, such as indexing and slicing operations.  \n",
    "A tuple consists of a number of values separated by commas"
   ],
   "metadata": {
    "collapsed": false,
    "pycharm": {
     "name": "#%% md\n"
    }
   }
  },
  {
   "cell_type": "code",
   "execution_count": 97,
   "outputs": [
    {
     "name": "stdout",
     "text": [
      "12345\n"
     ],
     "output_type": "stream"
    }
   ],
   "source": [
    "tup = 12345, 54321, 'hello!'\n",
    "print(tup[0])"
   ],
   "metadata": {
    "collapsed": false,
    "pycharm": {
     "name": "#%%  \n",
     "is_executing": false
    }
   }
  },
  {
   "cell_type": "markdown",
   "source": [
    "Tuples are immutable"
   ],
   "metadata": {
    "collapsed": false,
    "pycharm": {
     "name": "#%% md\n"
    }
   }
  },
  {
   "cell_type": "code",
   "execution_count": 98,
   "outputs": [
    {
     "traceback": [
      "\u001b[1;31m---------------------------------------------------------------------------\u001b[0m",
      "\u001b[1;31mTypeError\u001b[0m                                 Traceback (most recent call last)",
      "\u001b[1;32m<ipython-input-98-4281a4677a8c>\u001b[0m in \u001b[0;36m<module>\u001b[1;34m\u001b[0m\n\u001b[1;32m----> 1\u001b[1;33m \u001b[0mtup\u001b[0m\u001b[1;33m[\u001b[0m\u001b[1;36m0\u001b[0m\u001b[1;33m]\u001b[0m \u001b[1;33m=\u001b[0m \u001b[1;36m99999\u001b[0m\u001b[1;33m\u001b[0m\u001b[1;33m\u001b[0m\u001b[0m\n\u001b[0m\u001b[0;32m      2\u001b[0m \u001b[1;33m\u001b[0m\u001b[0m\n",
      "\u001b[1;31mTypeError\u001b[0m: 'tuple' object does not support item assignment"
     ],
     "ename": "TypeError",
     "evalue": "'tuple' object does not support item assignment",
     "output_type": "error"
    }
   ],
   "source": [
    "tup[0] = 99999 "
   ],
   "metadata": {
    "collapsed": false,
    "pycharm": {
     "name": "#%%\n",
     "is_executing": false
    }
   }
  },
  {
   "cell_type": "markdown",
   "source": [
    "## Sets"
   ],
   "metadata": {
    "collapsed": false,
    "pycharm": {
     "name": "#%% md\n"
    }
   }
  },
  {
   "cell_type": "code",
   "execution_count": 99,
   "outputs": [
    {
     "name": "stdout",
     "text": [
      "{'apple', 'orange', 'banana', 'pear'}\n"
     ],
     "output_type": "stream"
    }
   ],
   "source": [
    "basket = {'apple', 'orange', 'apple', 'pear', 'orange', 'banana'}\n",
    "print(basket)                      # show that duplicates have been removed"
   ],
   "metadata": {
    "collapsed": false,
    "pycharm": {
     "name": "#%% \n",
     "is_executing": false
    }
   }
  },
  {
   "cell_type": "markdown",
   "source": [
    "## Dictionaries\n",
    "It is best to think of a dictionary as a set of key: value pairs, with the requirement that the keys are unique (within one dictionary). A pair of braces creates an empty dictionary: {}. Placing a comma-separated list of key:value pairs within the braces adds initial key:value pairs to the dictionary; this is also the way dictionaries are written on output."
   ],
   "metadata": {
    "collapsed": false,
    "pycharm": {
     "name": "#%% md\n"
    }
   }
  },
  {
   "cell_type": "code",
   "execution_count": 101,
   "outputs": [
    {
     "name": "stdout",
     "text": [
      "{'jack': 4098, 'sape': 4139}\n{'jack': 4098, 'sape': 4139, 'guido': 4127}\n{'jack': 8888, 'sape': 4139, 'guido': 4127}\n"
     ],
     "output_type": "stream"
    }
   ],
   "source": [
    "tel = {'jack': 4098, 'sape': 4139}\n",
    "print(tel)\n",
    "tel['guido'] = 4127\n",
    "print(tel)\n",
    "tel['jack'] = 8888\n",
    "print(tel)"
   ],
   "metadata": {
    "collapsed": false,
    "pycharm": {
     "name": "#%%\n",
     "is_executing": false
    }
   }
  },
  {
   "cell_type": "markdown",
   "source": [
    "# if and else Statements\n",
    "<img src=\"https://cdn.programiz.com/sites/tutorial2program/files/Python_if_statement.jpg\">\n",
    "Syntax of an if statement  \n",
    "```\n",
    "if test expression:\n",
    "    Body of if\n",
    "else:\n",
    "    Body of else\n",
    "```"
   ],
   "metadata": {
    "collapsed": false,
    "pycharm": {
     "name": "#%% md\n"
    }
   }
  },
  {
   "cell_type": "code",
   "execution_count": 102,
   "outputs": [
    {
     "name": "stdout",
     "text": [
      "Positive or Zero\n"
     ],
     "output_type": "stream"
    }
   ],
   "source": [
    "num = 3\n",
    "\n",
    "# Try these two variations as well. \n",
    "# num = -5\n",
    "# num = 0\n",
    "\n",
    "if num >= 0:\n",
    "    print(\"Positive or Zero\")\n",
    "else:\n",
    "    print(\"Negative number\")"
   ],
   "metadata": {
    "collapsed": false,
    "pycharm": {
     "name": "#%%\n",
     "is_executing": false
    }
   }
  },
  {
   "cell_type": "markdown",
   "source": [
    "# Loops\n",
    "Python provides three ways for executing the loops.  \n",
    "## While\n",
    "While loop is used to execute a block of statements repeatedly until a given a condition is satisfied.  \n",
    "```\n",
    "while expression:\n",
    "    statement(s)\n",
    "```"
   ],
   "metadata": {
    "collapsed": false,
    "pycharm": {
     "name": "#%% md\n"
    }
   }
  },
  {
   "cell_type": "code",
   "execution_count": 103,
   "outputs": [
    {
     "name": "stdout",
     "text": [
      "Hello Django Class\nHello Django Class\nHello Django Class\n"
     ],
     "output_type": "stream"
    }
   ],
   "source": [
    "count = 0\n",
    "while (count < 3):     \n",
    "    count = count + 1\n",
    "    print(\"Hello Django Class\") \n"
   ],
   "metadata": {
    "collapsed": false,
    "pycharm": {
     "name": "#%%\n",
     "is_executing": false
    }
   }
  },
  {
   "cell_type": "markdown",
   "source": [
    "## For\n",
    "For loops are used for sequential traversal.  \n",
    "for syntax is different with C++ and it's like this:\n",
    "```\n",
    "for iterator_var in sequence:\n",
    "    statements(s)\n",
    "```"
   ],
   "metadata": {
    "collapsed": false,
    "pycharm": {
     "name": "#%% md\n"
    }
   }
  },
  {
   "cell_type": "code",
   "execution_count": 104,
   "outputs": [
    {
     "name": "stdout",
     "text": [
      "0\n1\n2\n3\n4\n5\n6\n"
     ],
     "output_type": "stream"
    }
   ],
   "source": [
    "# Range function\n",
    "for i in range(7):\n",
    "    print(i)\n"
   ],
   "metadata": {
    "collapsed": false,
    "pycharm": {
     "name": "#%%\n",
     "is_executing": false
    }
   }
  },
  {
   "cell_type": "code",
   "execution_count": 105,
   "outputs": [
    {
     "name": "stdout",
     "text": [
      "3\n4\n"
     ],
     "output_type": "stream"
    }
   ],
   "source": [
    "for i in range(3,5):\n",
    "    print(i)\n"
   ],
   "metadata": {
    "collapsed": false,
    "pycharm": {
     "name": "#%%\n",
     "is_executing": false
    }
   }
  },
  {
   "cell_type": "code",
   "execution_count": 106,
   "outputs": [
    {
     "name": "stdout",
     "text": [
      "9\n7\n5\n3\n"
     ],
     "output_type": "stream"
    }
   ],
   "source": [
    "for i in range(9, 2, -2):\n",
    "    print(i)"
   ],
   "metadata": {
    "collapsed": false,
    "pycharm": {
     "name": "#%%\n",
     "is_executing": false
    }
   }
  },
  {
   "cell_type": "markdown",
   "source": [
    "### Iterating on objects"
   ],
   "metadata": {
    "collapsed": false,
    "pycharm": {
     "name": "#%% md\n"
    }
   }
  },
  {
   "cell_type": "code",
   "execution_count": 108,
   "outputs": [
    {
     "name": "stdout",
     "text": [
      "1\nhello\n3\n"
     ],
     "output_type": "stream"
    }
   ],
   "source": [
    "# for lists\n",
    "for_list = [1, \"hello\", 3]\n",
    "for item in for_list:\n",
    "    print(item)"
   ],
   "metadata": {
    "collapsed": false,
    "pycharm": {
     "name": "#%% \n",
     "is_executing": false
    }
   }
  },
  {
   "cell_type": "code",
   "execution_count": 110,
   "outputs": [
    {
     "name": "stdout",
     "text": [
      "key is m, and value is male\nkey is f, and value is female\nkey is o, and value is other\n"
     ],
     "output_type": "stream"
    }
   ],
   "source": [
    "# on dict\n",
    "dict = {\"m\": \"male\", \"f\": \"female\", \"o\": \"other\"}\n",
    "for key, value in dict.items():  # we could do dict.keys() for keys\n",
    "    print(f'key is {key}, and value is {value}')"
   ],
   "metadata": {
    "collapsed": false,
    "pycharm": {
     "name": "#%%\n",
     "is_executing": false
    }
   }
  },
  {
   "cell_type": "markdown",
   "source": [
    "We can also pass statements to the loops.  \n",
    "```continue``` or ```break``` can be used to control the loop.  \n",
    "##%% md\n",
    "# Functions\n",
    "A function is a set of statements that take inputs, do some specific computation and produces output (optionaly).  \n",
    "```print()``` is built-in function in python.\n",
    "We can also make user-defined functions.\n",
    "The schema would be like this\n",
    "```\n",
    "def function_name(input1, input2, ...):\n",
    "    function body\n",
    "    return result\n",
    "```\n",
    "We will see this through the examples:"
   ],
   "metadata": {
    "collapsed": false,
    "pycharm": {
     "name": "#%% md\n"
    }
   }
  },
  {
   "cell_type": "code",
   "execution_count": 111,
   "outputs": [
    {
     "name": "stdout",
     "text": [
      "2\n3\n"
     ],
     "output_type": "stream"
    }
   ],
   "source": [
    "def swap(x, y): \n",
    "    temp = x\n",
    "    x = y\n",
    "    y = temp\n",
    "  \n",
    "x = 2\n",
    "y = 3\n",
    "swap(x, y) \n",
    "print(x) \n",
    "print(y) "
   ],
   "metadata": {
    "collapsed": false,
    "pycharm": {
     "name": "#%% \n",
     "is_executing": false
    }
   }
  },
  {
   "cell_type": "code",
   "execution_count": 116,
   "outputs": [
    {
     "name": "stdout",
     "text": [
      "(2, 8)\n"
     ],
     "output_type": "stream"
    }
   ],
   "source": [
    "\n",
    "def our_complex_sum(a, b):\n",
    "    return a - b, a + b\n",
    "\n",
    "x = 5\n",
    "y = 3\n",
    "print(our_complex_sum(x, y))\n"
   ],
   "metadata": {
    "collapsed": false,
    "pycharm": {
     "name": "#%%\n",
     "is_executing": false
    }
   }
  },
  {
   "cell_type": "markdown",
   "source": [
    "# Classes\n",
    "Classes provide a means of bundling data and functionality together. Creating a new class creates a new type of object, allowing new instances of that type to be made. Each class instance can have attributes attached to it for maintaining its state. Class instances can also have methods (defined by its class) for modifying its state.\n"
   ],
   "metadata": {
    "collapsed": false,
    "pycharm": {
     "name": "#%% md\n"
    }
   }
  },
  {
   "cell_type": "code",
   "execution_count": null,
   "outputs": [],
   "source": [
    "class Person:\n",
    "  def __init__(self, name, age):\n",
    "    self.name = name\n",
    "    self.age = age\n",
    "\n",
    "  def myfunc(self):\n",
    "    print(\"Hello my name is \" + self.name)\n",
    "\n",
    "p1 = Person(\"John\", 36)\n",
    "p1.myfunc()\n",
    "\n",
    "\n"
   ],
   "metadata": {
    "collapsed": false,
    "pycharm": {
     "name": "#%%\n"
    }
   }
  }
 ],
 "metadata": {
  "language_info": {
   "codemirror_mode": {
    "name": "ipython",
    "version": 2
   },
   "file_extension": ".py",
   "mimetype": "text/x-python",
   "name": "python",
   "nbconvert_exporter": "python",
   "pygments_lexer": "ipython2",
   "version": "2.7.6"
  },
  "kernelspec": {
   "name": "python3",
   "language": "python",
   "display_name": "Python 3"
  },
  "pycharm": {
   "stem_cell": {
    "cell_type": "raw",
    "source": [],
    "metadata": {
     "collapsed": false
    }
   }
  }
 },
 "nbformat": 4,
 "nbformat_minor": 0
}