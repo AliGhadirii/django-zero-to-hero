{
 "cells": [
  {
   "cell_type": "markdown",
   "source": [
    "# What is Python?\n",
    "Python is an interpreted (bytecode-compiled), high-level, general-purpose programming language.  \n",
    "There are no type declarations of variables, parameters, functions, or methods in source code.  \n",
    "Python is a popular, open-source programming language used for both scripting applications and standalone programs"
   ],
   "metadata": {
    "collapsed": false
   }
  },
  {
   "cell_type": "markdown",
   "source": [
    "# How Python works?\n",
    "Python is an imperative language based on statements.\n",
    "Imperative programming is a programming paradigm that uses statements that change a program's state.\n",
    "## Statements\n",
    "+ a single expression  \n",
    "+ an assignment  \n",
    "+ a function call  \n",
    "+ a function definition  \n",
    "+ a statement; statement\n",
    "\n",
    "## Expressions\n",
    "+ Numbers\n",
    "    + integers\n",
    "    + floating-point\n",
    "    + complex numbers\n",
    "+ strings\n",
    "+ boolean values\n",
    "+ lists and dicts\n"
   ],
   "metadata": {
    "collapsed": false,
    "pycharm": {
     "name": "#%% md\n"
    }
   }
  },
  {
   "cell_type": "markdown",
   "source": [
    "### Make your code cleaner\n",
    "we add space to codes to make the code if cleaner:\n",
    "    pass ```2*3``` works exactly like ```2 * 3``` but we use space to make it more readable."
   ],
   "metadata": {
    "collapsed": false,
    "pycharm": {
     "name": "#%% md\n",
     "is_executing": false
    }
   }
  },
  {
   "cell_type": "code",
   "source": [
    "2 * 3"
   ],
   "metadata": {
    "collapsed": false,
    "pycharm": {
     "name": "#%% \n",
     "is_executing": false
    }
   },
   "execution_count": 15,
   "outputs": [
    {
     "data": {
      "text/plain": "6"
     },
     "metadata": {},
     "output_type": "execute_result",
     "execution_count": 15
    }
   ]
  },
  {
   "cell_type": "markdown",
   "source": [
    "### ```a``` and ```b``` are variables."
   ],
   "metadata": {
    "collapsed": false,
    "pycharm": {
     "name": "#%% md\n"
    }
   }
  },
  {
   "cell_type": "code",
   "execution_count": 16,
   "outputs": [
    {
     "data": {
      "text/plain": "6"
     },
     "metadata": {},
     "output_type": "execute_result",
     "execution_count": 16
    }
   ],
   "source": [
    "a = 2\n",
    "b = 3\n",
    "a * b"
   ],
   "metadata": {
    "collapsed": false,
    "pycharm": {
     "name": "#%%\n",
     "is_executing": false
    }
   }
  },
  {
   "cell_type": "markdown",
   "source": [
    "### we can use ```print``` function to write something on the screen."
   ],
   "metadata": {
    "collapsed": false,
    "pycharm": {
     "name": "#%% md\n"
    }
   }
  },
  {
   "cell_type": "code",
   "execution_count": 17,
   "outputs": [
    {
     "name": "stdout",
     "text": [
      "2\nthe value of b is 3\n5\n0.6666666666666666\n8\n"
     ],
     "output_type": "stream"
    }
   ],
   "source": [
    "print(a)\n",
    "print('the value of b is', b)\n",
    "print(a + b)\n",
    "print(a / b)\n",
    "print(a ** b)"
   ],
   "metadata": {
    "collapsed": false,
    "pycharm": {
     "name": "#%% \n",
     "is_executing": false
    }
   }
  },
  {
   "cell_type": "markdown",
   "source": [
    "### We don't need to declare variable types explicitly."
   ],
   "metadata": {
    "collapsed": false,
    "pycharm": {
     "name": "#%% md\n"
    }
   }
  },
  {
   "cell_type": "code",
   "execution_count": 18,
   "outputs": [
    {
     "name": "stdout",
     "text": [
      "5\nhey\n"
     ],
     "output_type": "stream"
    }
   ],
   "source": [
    "d = True\n",
    "print(d)\n",
    "c = 5\n",
    "print(c)\n",
    "c = \"hey\"\n",
    "print(c)\n",
    "c = a / b"
   ],
   "metadata": {
    "collapsed": false,
    "pycharm": {
     "name": "#%%\n",
     "is_executing": false
    }
   }
  },
  {
   "cell_type": "markdown",
   "source": [
    "A better and more readable way to print both text and the value of variable to the screen is to use what are called f-strings.  \n",
    "f-strings allow you to insert the value of a variable anywhere in the text by surrounding it with braces {}.  \n",
    "Note that the entire text string needs to be between quotes and be preceded by the letter f"
   ],
   "metadata": {
    "collapsed": false,
    "pycharm": {
     "name": "#%% md\n"
    }
   }
  },
  {
   "cell_type": "code",
   "execution_count": 20,
   "outputs": [
    {
     "name": "stdout",
     "text": [
      "2 divided by 3 is 0.6666666666666666\n2 divided by 3 gives 0.667\n"
     ],
     "output_type": "stream"
    }
   ],
   "source": [
    "print(f'{a} divided by {b} is {c}')\n",
    "print(f'{a} divided by {b} gives {c:.3f}')"
   ],
   "metadata": {
    "collapsed": false,
    "pycharm": {
     "name": "#%%\n",
     "is_executing": false
    }
   }
  },
  {
   "cell_type": "markdown",
   "source": [
    "# Data Structures\n",
    "+ dictionaries (hash tables): {}\n",
    "+ lists: []\n",
    "+ tuples: (item, ...)"
   ],
   "metadata": {
    "collapsed": false,
    "pycharm": {
     "name": "#%% md\n"
    }
   }
  },
  {
   "cell_type": "code",
   "execution_count": 22,
   "outputs": [
    {
     "data": {
      "text/plain": "[1, 2, 3]"
     },
     "metadata": {},
     "output_type": "execute_result",
     "execution_count": 22
    }
   ],
   "source": [
    "[1, 2, 3]"
   ],
   "metadata": {
    "collapsed": false,
    "pycharm": {
     "name": "#%% \n",
     "is_executing": false
    }
   }
  },
  {
   "cell_type": "code",
   "execution_count": 21,
   "outputs": [
    {
     "data": {
      "text/plain": "{1, 2, 3}"
     },
     "metadata": {},
     "output_type": "execute_result",
     "execution_count": 21
    }
   ],
   "source": [
    "{1, 2, 3}"
   ],
   "metadata": {
    "collapsed": false,
    "pycharm": {
     "name": "#%%\n",
     "is_executing": false
    }
   }
  },
  {
   "cell_type": "code",
   "execution_count": 23,
   "outputs": [
    {
     "data": {
      "text/plain": "(1, 2, 3)"
     },
     "metadata": {},
     "output_type": "execute_result",
     "execution_count": 23
    }
   ],
   "source": [
    "(1, 2, 3)"
   ],
   "metadata": {
    "collapsed": false,
    "pycharm": {
     "name": "#%%\n",
     "is_executing": false
    }
   }
  },
  {
   "cell_type": "code",
   "execution_count": 27,
   "outputs": [],
   "source": [
    "a = {\"m\": \"male\", \"f\": \"female\", \"o\": \"other\"}"
   ],
   "metadata": {
    "collapsed": false,
    "pycharm": {
     "name": "#%% \n",
     "is_executing": false
    }
   }
  },
  {
   "cell_type": "code",
   "execution_count": 30,
   "outputs": [
    {
     "name": "stdout",
     "text": [
      "m\n"
     ],
     "output_type": "stream"
    }
   ],
   "source": [
    "print(a[\"male\"])"
   ],
   "metadata": {
    "collapsed": false,
    "pycharm": {
     "name": "#%%\n",
     "is_executing": false
    }
   }
  },
  {
   "cell_type": "markdown",
   "source": [
    "## Lists\n",
    "List is one of the Python compound data types often referred to as sequences."
   ],
   "metadata": {
    "collapsed": false,
    "pycharm": {
     "name": "#%% md\n"
    }
   }
  },
  {
   "cell_type": "code",
   "execution_count": 51,
   "outputs": [
    {
     "name": "stdout",
     "text": [
      "[]\n[1, 'Hello', 1.6, True, ['nested list', 8]]\n"
     ],
     "output_type": "stream"
    }
   ],
   "source": [
    "my_list = []\n",
    "print(my_list)\n",
    "my_list = [1, \"Hello\", 1.6, True, [\"nested list\", 8]]\n",
    "print(my_list)"
   ],
   "metadata": {
    "collapsed": false,
    "pycharm": {
     "name": "#%% \n",
     "is_executing": false
    }
   }
  },
  {
   "cell_type": "markdown",
   "source": [
    "### Accessing List\n",
    "<img src=\"https://cdn.programiz.com/sites/tutorial2program/files/element-slicling.jpg\">"
   ],
   "metadata": {
    "collapsed": false,
    "pycharm": {
     "name": "#%% md\n"
    }
   }
  },
  {
   "cell_type": "code",
   "execution_count": 52,
   "outputs": [
    {
     "name": "stdout",
     "text": [
      "1\n['nested list', 8]\nnested list\nTrue\n"
     ],
     "output_type": "stream"
    }
   ],
   "source": [
    "print(my_list[0]) \n",
    "print(my_list[4])\n",
    "print(my_list[4][0])\n",
    "print(my_list[-2])"
   ],
   "metadata": {
    "collapsed": false,
    "pycharm": {
     "name": "#%%\n",
     "is_executing": false
    }
   }
  },
  {
   "cell_type": "markdown",
   "source": [
    "### Slicing"
   ],
   "metadata": {
    "collapsed": false,
    "pycharm": {
     "name": "#%% md\n"
    }
   }
  },
  {
   "cell_type": "code",
   "execution_count": 53,
   "outputs": [
    {
     "name": "stdout",
     "text": [
      "['Hello', 1.6]\n[True, ['nested list', 8]]\n[1, 'Hello', 1.6]\n"
     ],
     "output_type": "stream"
    }
   ],
   "source": [
    "print(my_list[1:3])\n",
    "print(my_list[3:])\n",
    "print(my_list[:-2])"
   ],
   "metadata": {
    "collapsed": false,
    "pycharm": {
     "name": "#%%\n",
     "is_executing": false
    }
   }
  },
  {
   "cell_type": "markdown",
   "source": [
    "### Modification"
   ],
   "metadata": {
    "collapsed": false,
    "pycharm": {
     "name": "#%% md\n"
    }
   }
  },
  {
   "cell_type": "code",
   "execution_count": 55,
   "outputs": [
    {
     "name": "stdout",
     "text": [
      "[5, 'Hello', 1.6, True, ['nested list', 8]]\n"
     ],
     "output_type": "stream"
    }
   ],
   "source": [
    "my_list[0] = 5\n",
    "print(my_list)"
   ],
   "metadata": {
    "collapsed": false,
    "pycharm": {
     "name": "#%%\n",
     "is_executing": false
    }
   }
  },
  {
   "cell_type": "code",
   "execution_count": 56,
   "outputs": [
    {
     "name": "stdout",
     "text": [
      "[5, 6, 'x', 8, True, ['nested list', 8]]\n"
     ],
     "output_type": "stream"
    }
   ],
   "source": [
    "my_list[1:3] = [6, \"x\", 8]\n",
    "print(my_list)"
   ],
   "metadata": {
    "collapsed": false,
    "pycharm": {
     "name": "#%%\n",
     "is_executing": false
    }
   }
  },
  {
   "cell_type": "code",
   "execution_count": 82,
   "outputs": [
    {
     "name": "stdout",
     "text": [
      "[1, 2, 3, 3, 5, 6, 'x', 8, True, ['nested list', 8]]\n[5, 6, 'x', 8, True, ['nested list', 8], 1, 2, 3, 3]\n"
     ],
     "output_type": "stream"
    }
   ],
   "source": [
    "new_list = [1, 2, 3, 3]\n",
    "print(new_list + my_list)\n",
    "print(my_list + new_list)"
   ],
   "metadata": {
    "collapsed": false,
    "pycharm": {
     "name": "#%%\n",
     "is_executing": false
    }
   }
  },
  {
   "cell_type": "markdown",
   "source": [
    "### Appending and Inserting"
   ],
   "metadata": {
    "collapsed": false,
    "pycharm": {
     "name": "#%% md\n"
    }
   }
  },
  {
   "cell_type": "code",
   "execution_count": 83,
   "outputs": [
    {
     "name": "stdout",
     "text": [
      "[1, 2, 3, 3, 4]",
      "\n"
     ],
     "output_type": "stream"
    }
   ],
   "source": [
    "new_list.append(4)\n",
    "print(new_list)"
   ],
   "metadata": {
    "collapsed": false,
    "pycharm": {
     "name": "#%%\n",
     "is_executing": false
    }
   }
  },
  {
   "cell_type": "code",
   "execution_count": 84,
   "outputs": [
    {
     "name": "stdout",
     "text": [
      "[1, 6, 2, 3, 3, 4]\n"
     ],
     "output_type": "stream"
    }
   ],
   "source": [
    "new_list.insert(1, 6)\n",
    "print(new_list)"
   ],
   "metadata": {
    "collapsed": false,
    "pycharm": {
     "name": "#%%\n",
     "is_executing": false
    }
   }
  },
  {
   "cell_type": "markdown",
   "source": [
    "### Deleting"
   ],
   "metadata": {
    "collapsed": false,
    "pycharm": {
     "name": "#%% md\n"
    }
   }
  },
  {
   "cell_type": "code",
   "execution_count": 85,
   "outputs": [
    {
     "name": "stdout",
     "text": [
      "[1, 6, 2, 3, 3]\n"
     ],
     "output_type": "stream"
    }
   ],
   "source": [
    "new_list.pop()\n",
    "print(new_list)"
   ],
   "metadata": {
    "collapsed": false,
    "pycharm": {
     "name": "#%%\n",
     "is_executing": false
    }
   }
  },
  {
   "cell_type": "code",
   "execution_count": 86,
   "outputs": [
    {
     "name": "stdout",
     "text": [
      "[6, 2, 3, 3]\n"
     ],
     "output_type": "stream"
    }
   ],
   "source": [
    "new_list.pop(0)\n",
    "print(new_list)"
   ],
   "metadata": {
    "collapsed": false,
    "pycharm": {
     "name": "#%%\n",
     "is_executing": false
    }
   }
  },
  {
   "cell_type": "code",
   "execution_count": 87,
   "outputs": [
    {
     "name": "stdout",
     "text": [
      "[6, 2, 3]\n"
     ],
     "output_type": "stream"
    }
   ],
   "source": [
    "new_list.remove(3)\n",
    "print(new_list)"
   ],
   "metadata": {
    "collapsed": false,
    "pycharm": {
     "name": "#%%\n",
     "is_executing": false
    }
   }
  },
  {
   "cell_type": "markdown",
   "source": [
    "### indexing"
   ],
   "metadata": {
    "collapsed": false,
    "pycharm": {
     "name": "#%% md\n"
    }
   }
  },
  {
   "cell_type": "code",
   "execution_count": 90,
   "outputs": [
    {
     "name": "stdout",
     "text": [
      "2\n[6, 2, 3, 3, 3]\n2\n"
     ],
     "output_type": "stream"
    }
   ],
   "source": [
    "print(new_list.index(3))\n",
    "new_list.append(3)\n",
    "print(new_list)\n",
    "print(new_list.index(3))"
   ],
   "metadata": {
    "collapsed": false,
    "pycharm": {
     "name": "#%% \n",
     "is_executing": false
    }
   }
  },
  {
   "cell_type": "markdown",
   "source": [
    "### Some Other functions"
   ],
   "metadata": {
    "collapsed": false,
    "pycharm": {
     "name": "#%% md\n"
    }
   }
  },
  {
   "cell_type": "code",
   "execution_count": 93,
   "outputs": [
    {
     "name": "stdout",
     "text": [
      "[3, 3, 3, 2, 6]\n"
     ],
     "output_type": "stream"
    }
   ],
   "source": [
    "new_list.reverse()\n",
    "print(new_list)"
   ],
   "metadata": {
    "collapsed": false,
    "pycharm": {
     "name": "#%%\n",
     "is_executing": false
    }
   }
  },
  {
   "cell_type": "code",
   "execution_count": 95,
   "outputs": [
    {
     "name": "stdout",
     "text": [
      "[2, 3, 3, 3, 6]\n"
     ],
     "output_type": "stream"
    }
   ],
   "source": [
    "new_list.sort()\n",
    "print(new_list)"
   ],
   "metadata": {
    "collapsed": false,
    "pycharm": {
     "name": "#%%\n",
     "is_executing": false
    }
   }
  },
  {
   "cell_type": "code",
   "execution_count": null,
   "outputs": [],
   "source": [
    "\n"
   ],
   "metadata": {
    "collapsed": false,
    "pycharm": {
     "name": "#%%\n"
    }
   }
  }
 ],
 "metadata": {
  "language_info": {
   "codemirror_mode": {
    "name": "ipython",
    "version": 2
   },
   "file_extension": ".py",
   "mimetype": "text/x-python",
   "name": "python",
   "nbconvert_exporter": "python",
   "pygments_lexer": "ipython2",
   "version": "2.7.6"
  },
  "kernelspec": {
   "name": "python3",
   "language": "python",
   "display_name": "Python 3"
  },
  "pycharm": {
   "stem_cell": {
    "cell_type": "raw",
    "source": [],
    "metadata": {
     "collapsed": false
    }
   }
  }
 },
 "nbformat": 4,
 "nbformat_minor": 0
}